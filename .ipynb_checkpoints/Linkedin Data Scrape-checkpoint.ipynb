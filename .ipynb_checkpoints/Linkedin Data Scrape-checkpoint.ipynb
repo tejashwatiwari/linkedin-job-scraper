{
 "cells": [
  {
   "cell_type": "code",
   "execution_count": 23,
   "id": "167427e5",
   "metadata": {},
   "outputs": [
    {
     "name": "stdout",
     "output_type": "stream",
     "text": [
      "Finished importing packages\n",
      "Page Opened\n",
      "Enter the job description: Product Manager\n",
      "Enter the job location: United States\n"
     ]
    }
   ],
   "source": [
    "from selenium import webdriver\n",
    "from selenium.webdriver.common.keys import Keys\n",
    "import time\n",
    "\n",
    "print ('Finished importing packages')\n",
    "\n",
    "driver=webdriver.Chrome()\n",
    "url = 'https://www.linkedin.com/jobs/search'\n",
    "driver.get(url)\n",
    "print('Page Opened')\n",
    "\"\"\"\"\"email_address = driver.find_element('name','session_key')\n",
    "time.sleep(5)\n",
    "password_given = driver.find_element('name','session_password')\n",
    "credential = open('login_credentials.txt')\n",
    "line=credential.readlines()\n",
    "username = line[0]\n",
    "email_address.send_keys(session_key)\n",
    "password = line[1]\n",
    "password_given.send_keys(session_password)\n",
    "time.sleep(4)\n",
    "print('Password Entered')\n",
    "login_field = driver.find_element('xpath','//*[@id=\"organic-div\"]/form/div[3]/button')\n",
    "time.sleep(3)\n",
    "login_field.click()\n",
    "print('Logged in successfully')\"\"\"\n",
    "\n",
    "search_title_job_name = driver.find_element('xpath','/html/body/div[1]/header/nav/section/section[2]/form/section[1]/input')\n",
    "search_job_location = driver.find_element('xpath','/html/body/div[1]/header/nav/section/section[2]/form/section[2]/input')\n",
    "job_name=input('Enter the job description: ')\n",
    "job_location = input('Enter the job location: ')\n",
    "search_title_job_name.send_keys(job_name)\n",
    "search_job_location.send_keys(job_location)\n",
    "click_search_jobs = driver.find_element('xpath','/html/body/div[1]/header/nav/section/section[2]/form/button')\n",
    "click_search_jobs.click()\n",
    "print('Job search successful')\n"
   ]
  },
  {
   "cell_type": "code",
   "execution_count": null,
   "id": "68630c7e",
   "metadata": {},
   "outputs": [],
   "source": []
  }
 ],
 "metadata": {
  "kernelspec": {
   "display_name": "Python 3 (ipykernel)",
   "language": "python",
   "name": "python3"
  },
  "language_info": {
   "codemirror_mode": {
    "name": "ipython",
    "version": 3
   },
   "file_extension": ".py",
   "mimetype": "text/x-python",
   "name": "python",
   "nbconvert_exporter": "python",
   "pygments_lexer": "ipython3",
   "version": "3.9.12"
  }
 },
 "nbformat": 4,
 "nbformat_minor": 5
}
