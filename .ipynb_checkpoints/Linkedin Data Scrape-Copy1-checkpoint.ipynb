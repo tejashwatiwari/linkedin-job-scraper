{
 "cells": [
  {
   "cell_type": "code",
   "execution_count": 32,
   "id": "167427e5",
   "metadata": {},
   "outputs": [
    {
     "name": "stdout",
     "output_type": "stream",
     "text": [
      "Finished importing packages\n",
      "Page Opened\n",
      "Enter the job description: ty\n",
      "Enter the job location: \n",
      "Job search successful\n",
      "https://ex.com/home\n"
     ]
    }
   ],
   "source": [
    "from selenium import webdriver\n",
    "from selenium.webdriver.common.keys import Keys\n",
    "import time\n",
    "from bs4 import BeautifulSoup, SoupStrainer\n",
    "from selenium.webdriver.support.ui import WebDriverWait\n",
    "\n",
    "\n",
    "print ('Finished importing packages')\n",
    "\n",
    "driver=webdriver.Chrome()\n",
    "url = 'https://www.linkedin.com/jobs/search'\n",
    "driver.get(url)\n",
    "print('Page Opened')\n",
    "\"\"\"\"\"email_address = driver.find_element('name','session_key')\n",
    "time.sleep(5)\n",
    "password_given = driver.find_element('name','session_password')\n",
    "credential = open('login_credentials.txt')\n",
    "line=credential.readlines()\n",
    "username = line[0]\n",
    "email_address.send_keys(session_key)\n",
    "password = line[1]\n",
    "password_given.send_keys(session_password)\n",
    "time.sleep(4)\n",
    "print('Password Entered')\n",
    "login_field = driver.find_element('xpath','//*[@id=\"organic-div\"]/form/div[3]/button')\n",
    "time.sleep(3)\n",
    "login_field.click()\n",
    "print('Logged in successfully')\"\"\"\n",
    "\n",
    "search_title_job_name = driver.find_element('xpath','/html/body/div[1]/header/nav/section/section[2]/form/section[1]/input')\n",
    "search_job_location = driver.find_element('xpath','/html/body/div[1]/header/nav/section/section[2]/form/section[2]/input')\n",
    "job_name=input('Enter the job description: ')\n",
    "job_location = input('Enter the job location: ')\n",
    "search_title_job_name.send_keys(job_name)\n",
    "search_job_location.send_keys(job_location)\n",
    "click_search_jobs = driver.find_element('xpath','/html/body/div[1]/header/nav/section/section[2]/form/button')\n",
    "click_search_jobs.click()\n",
    "print('Job search successful')\n",
    "\n",
    "page_source=BeautifulSoup(driver.page_source,'lxml')\n",
    "job_card = page_source.find_all('div', class_='base-card relative w-full hover:no-underline focus:no-underline base-card--link base-search-card base-search-card--link job-search-card')\n",
    "\"\"\"for jobs in job_card:\n",
    "    job_title = jobs.span.text\n",
    "    print(job_title)\n",
    "\n",
    "job_link = job_card.find_all('href',class_='base-card__full-link absolute top-0 right-0 bottom-0 left-0 p-0 z-[2]')\n",
    "print(job_link)\"\"\"\n",
    "\n",
    "\n",
    "\n",
    "# Html\n",
    "html_source = '''\n",
    "       <a class=\"1\" href=\"https://ex.com/home\">Converting File Size in Python</a> \n",
    "'''\n",
    "# BeautifulSoup\n",
    "soup = BeautifulSoup(html_source, 'html.parser')\n",
    "\n",
    "# Find element by class which have href attr\n",
    "el = soup.find(class_='1', href=True)\n",
    "\n",
    "# Print href value\n",
    "print(el['href'])\n",
    "\n",
    "\n"
   ]
  },
  {
   "cell_type": "code",
   "execution_count": null,
   "id": "68630c7e",
   "metadata": {},
   "outputs": [],
   "source": [
    "# "
   ]
  }
 ],
 "metadata": {
  "kernelspec": {
   "display_name": "Python 3 (ipykernel)",
   "language": "python",
   "name": "python3"
  },
  "language_info": {
   "codemirror_mode": {
    "name": "ipython",
    "version": 3
   },
   "file_extension": ".py",
   "mimetype": "text/x-python",
   "name": "python",
   "nbconvert_exporter": "python",
   "pygments_lexer": "ipython3",
   "version": "3.9.12"
  }
 },
 "nbformat": 4,
 "nbformat_minor": 5
}
